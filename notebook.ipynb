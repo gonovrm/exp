{
 "cells": [
  {
   "cell_type": "markdown",
   "id": "6eda5618",
   "metadata": {},
   "source": [
    "Inicio\n",
    "Por el momento esto es lo que sé hacer, no me va a suponer demasiado problema inventarme cosas porque al final del día lo único que hace falta es no tener verüenza de necesitar aprender."
   ]
  },
  {
   "cell_type": "code",
   "execution_count": 3,
   "id": "28e8e556",
   "metadata": {},
   "outputs": [
    {
     "name": "stdout",
     "output_type": "stream",
     "text": [
      "Hola mundo\n"
     ]
    }
   ],
   "source": [
    "print(\"Hola mundo\")"
   ]
  },
  {
   "cell_type": "markdown",
   "id": "a784eb92",
   "metadata": {},
   "source": [
    "No me importa demasiado **esto** pero lo otro es inaceptable\n",
    "$$\n",
    "g_{\\mu\\nu\\rho}^{\\phi}=\\Lambda·\\log_{10}{e}\n",
    "$$"
   ]
  },
  {
   "cell_type": "code",
   "execution_count": 5,
   "id": "b8927279",
   "metadata": {},
   "outputs": [],
   "source": [
    "x=2 #la declaración de variables parece una artimaña mágica "
   ]
  },
  {
   "cell_type": "markdown",
   "id": "7da542f3",
   "metadata": {},
   "source": [
    "Porque aunque esto sea un texto"
   ]
  },
  {
   "cell_type": "code",
   "execution_count": 6,
   "id": "e01dcb4e",
   "metadata": {},
   "outputs": [
    {
     "name": "stdout",
     "output_type": "stream",
     "text": [
      "La respuesta siempre será 2\n"
     ]
    }
   ],
   "source": [
    "print(\"La respuesta siempre será\",x)"
   ]
  },
  {
   "cell_type": "code",
   "execution_count": 7,
   "id": "4091a3b5",
   "metadata": {},
   "outputs": [
    {
     "name": "stdout",
     "output_type": "stream",
     "text": [
      "Tengo que aprender a formatear los notebooks\n",
      "Tengo que aprender a formatear los notebooks\n"
     ]
    }
   ],
   "source": [
    "for i in range(x):\n",
    "    print(\"Tengo que aprender a formatear los notebooks\")"
   ]
  },
  {
   "cell_type": "code",
   "execution_count": null,
   "id": "6d144632",
   "metadata": {},
   "outputs": [],
   "source": []
  }
 ],
 "metadata": {
  "kernelspec": {
   "display_name": "Python 3 (ipykernel)",
   "language": "python",
   "name": "python3"
  },
  "language_info": {
   "codemirror_mode": {
    "name": "ipython",
    "version": 3
   },
   "file_extension": ".py",
   "mimetype": "text/x-python",
   "name": "python",
   "nbconvert_exporter": "python",
   "pygments_lexer": "ipython3",
   "version": "3.11.5"
  }
 },
 "nbformat": 4,
 "nbformat_minor": 5
}
